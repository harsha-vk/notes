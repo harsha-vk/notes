{
 "cells": [
  {
   "cell_type": "code",
   "execution_count": null,
   "metadata": {
    "executionInfo": {
     "elapsed": 2,
     "status": "ok",
     "timestamp": 1714576597510,
     "user": {
      "displayName": "Harsha Vardhan Koganti",
      "userId": "02216943246064620515"
     },
     "user_tz": -330
    },
    "id": "tVeyDprMUGHi"
   },
   "outputs": [],
   "source": [
    "import random\n",
    "import time"
   ]
  },
  {
   "cell_type": "code",
   "execution_count": null,
   "metadata": {
    "executionInfo": {
     "elapsed": 403,
     "status": "ok",
     "timestamp": 1714576612681,
     "user": {
      "displayName": "Harsha Vardhan Koganti",
      "userId": "02216943246064620515"
     },
     "user_tz": -330
    },
    "id": "YAroBdJGDfUl"
   },
   "outputs": [],
   "source": [
    "def sequenceGenerator(size, seedVal, minVal, maxVal):\n",
    "  random.seed(seedVal)\n",
    "  return [random.randint(minVal, maxVal) for i in range(size)]\n",
    "\n",
    "class Timer():\n",
    "  def __init__(self):\n",
    "    self.ticks = time.perf_counter()\n",
    "  def getRunTime(self):\n",
    "    print(\"Run time = \" + str((time.perf_counter() - self.ticks) * 1000) + \"ms\")"
   ]
  },
  {
   "cell_type": "markdown",
   "metadata": {
    "id": "gad0ErwC5in8"
   },
   "source": [
    "### Week 1\n",
    "1. Maximum pairwise product"
   ]
  },
  {
   "cell_type": "code",
   "execution_count": null,
   "metadata": {
    "id": "yZQIPazW50yN"
   },
   "outputs": [],
   "source": [
    "def maxPairwiseProduct1(nums):\n",
    "  ## find max number\n",
    "  index1 = 0\n",
    "  for i in range(len(nums)):\n",
    "     if nums[i] > nums[index1]:\n",
    "      index1 = i\n",
    "  ## find next max number\n",
    "  index2 = 0\n",
    "  if index1 == 0:\n",
    "    index2 = 1\n",
    "  for i in range(len(nums)):\n",
    "    if i != index1 and nums[i] > nums[index2]:\n",
    "      index2 = i\n",
    "  return nums[index1]*nums[index2]\n",
    "\n",
    "def maxPairwiseProduct2(nums):\n",
    "  ## sort nums in descending order\n",
    "  for i in range(len(nums)):\n",
    "    for j in range(i+1, len(nums)):\n",
    "      if nums[i] < nums[j]:\n",
    "        nums[i], nums[j] = nums[j], nums[i]\n",
    "  return nums[0]*nums[1]"
   ]
  },
  {
   "cell_type": "code",
   "execution_count": null,
   "metadata": {
    "id": "E364XSSN-OwR"
   },
   "outputs": [],
   "source": [
    "print(maxPairwiseProduct1([123,5,14,2,8,8,10,123,2,3]))\n",
    "print(maxPairwiseProduct2([123,5,14,2,8,8,10,123,2,3]))"
   ]
  },
  {
   "cell_type": "code",
   "execution_count": null,
   "metadata": {
    "id": "hDtHSdFINa7r"
   },
   "outputs": [],
   "source": [
    "# stress test\n",
    "for i in range(10**6):\n",
    "  tn = random.randint(2, 10)\n",
    "  tnums = [random.randint(0, 2*(10**5)) for i in range(tn)]\n",
    "  result1 = maxPairwiseProduct1(tnums)\n",
    "  result2 = maxPairwiseProduct2(tnums)\n",
    "  if result1 != result2:\n",
    "    print(tnums)\n",
    "    print(result1)\n",
    "    print(result2)\n",
    "    break"
   ]
  },
  {
   "cell_type": "markdown",
   "metadata": {
    "id": "E-zD98HKRxcY"
   },
   "source": [
    "### Week 2:\n",
    "1. Fibonacci number"
   ]
  },
  {
   "cell_type": "code",
   "execution_count": null,
   "metadata": {
    "id": "icBpEeO6wM0I"
   },
   "outputs": [],
   "source": [
    "def fibonacciNumber(num):\n",
    "  if num == 0:\n",
    "    return 0\n",
    "  if num == 1:\n",
    "    return 1\n",
    "  fn = 0\n",
    "  f0 = 0\n",
    "  f1 = 1\n",
    "  for i in range(2,num+1):\n",
    "    fn = f0 + f1\n",
    "    f0 = f1\n",
    "    f1 = fn\n",
    "  return fn"
   ]
  },
  {
   "cell_type": "code",
   "execution_count": null,
   "metadata": {
    "id": "YiRAEaXyyBIq"
   },
   "outputs": [],
   "source": [
    "print(fibonacciNumber(3))"
   ]
  },
  {
   "cell_type": "markdown",
   "metadata": {
    "id": "pMrJotZ912Em"
   },
   "source": [
    "2. Last digit of a large fibonacci number"
   ]
  },
  {
   "cell_type": "code",
   "execution_count": null,
   "metadata": {
    "id": "AwND58tJ11uG"
   },
   "outputs": [],
   "source": [
    "def lastDigitOfFibonacciNumber(num):\n",
    "  if num == 0:\n",
    "    return 0\n",
    "  if num == 1:\n",
    "    return 1\n",
    "  fn = 0\n",
    "  f0 = 0\n",
    "  f1 = 1\n",
    "  for i in range(2,num+1):\n",
    "    fn = (f0 + f1) % 10\n",
    "    f0 = f1\n",
    "    f1 = fn\n",
    "  return fn"
   ]
  },
  {
   "cell_type": "code",
   "execution_count": null,
   "metadata": {
    "id": "DHRw_KgC22JC"
   },
   "outputs": [],
   "source": [
    "print(lastDigitOfFibonacciNumber(327305))"
   ]
  },
  {
   "cell_type": "markdown",
   "metadata": {
    "id": "CwTxF_Nr5TSg"
   },
   "source": [
    "3. Greatest common divisor"
   ]
  },
  {
   "cell_type": "code",
   "execution_count": null,
   "metadata": {
    "id": "CysnjGi35S4L"
   },
   "outputs": [],
   "source": [
    "def greatestCommonDivisor(num1, num2):\n",
    "  while num1 > 0 and num2 > 0:\n",
    "    if num1 > num2:\n",
    "      num1 = num1 % num2\n",
    "    else:\n",
    "      num2 = num2 % num1\n",
    "  return max(num1, num2)"
   ]
  },
  {
   "cell_type": "code",
   "execution_count": null,
   "metadata": {
    "id": "QWKUTFtP6jTj"
   },
   "outputs": [],
   "source": [
    "print(greatestCommonDivisor(1344,217))"
   ]
  },
  {
   "cell_type": "markdown",
   "metadata": {
    "id": "lNlJjrkRARwX"
   },
   "source": [
    "4. Least common multiple"
   ]
  },
  {
   "cell_type": "code",
   "execution_count": null,
   "metadata": {
    "id": "UoNr1RkVARd3"
   },
   "outputs": [],
   "source": [
    "def leastCommonMultiple(num1, num2):\n",
    "  gcd = greatestCommonDivisor(num1, num2)\n",
    "  return num1 * num2 // gcd"
   ]
  },
  {
   "cell_type": "code",
   "execution_count": null,
   "metadata": {
    "id": "aKjYHd86A82A"
   },
   "outputs": [],
   "source": [
    "print(leastCommonMultiple(761457,614573))"
   ]
  },
  {
   "cell_type": "markdown",
   "metadata": {
    "id": "DaK-T5C7BZhu"
   },
   "source": [
    "5.  Fibonacci number again"
   ]
  },
  {
   "cell_type": "code",
   "execution_count": null,
   "metadata": {
    "id": "fEF19S1y30UT"
   },
   "outputs": [],
   "source": [
    "def fibonacciNumberAgain(n,m):\n",
    "  fn = [0,1]\n",
    "  sequencelength = 0\n",
    "  for i in range(2,n+1,1):\n",
    "    fn.append(fn[-2] + fn[-1])\n",
    "    if fn[-1]%m == 1 and fn[-2]%m == 0:\n",
    "      sequencelength = len(fn)-2\n",
    "      return fn[n%sequencelength]%m\n",
    "  return fn[-1]%m"
   ]
  },
  {
   "cell_type": "code",
   "execution_count": null,
   "metadata": {
    "id": "zDxEP15i795h"
   },
   "outputs": [],
   "source": [
    "tim = Timer()\n",
    "print(fibonacciNumberAgain(239,1000))\n",
    "tim.getRunTime()"
   ]
  },
  {
   "cell_type": "markdown",
   "metadata": {
    "id": "AnXhFz6qDWST"
   },
   "source": [
    "6. Last Digit of the Sum of Fibonacci Numbers"
   ]
  },
  {
   "cell_type": "code",
   "execution_count": null,
   "metadata": {
    "id": "VtM79wajDWAH"
   },
   "outputs": [],
   "source": [
    "def lastDigitOfSumFibonacciNumbers(num):\n",
    "  if num == 0:\n",
    "    return 0\n",
    "  if num == 1:\n",
    "    return 1\n",
    "  fn = 0\n",
    "  f0 = 0\n",
    "  f1 = 1\n",
    "  sum = 1\n",
    "  for i in range(2,num+1):\n",
    "    fn = (f0 + f1) % 10\n",
    "    sum = (sum + fn) % 10\n",
    "    f0 = f1\n",
    "    f1 = fn\n",
    "  return sum"
   ]
  },
  {
   "cell_type": "code",
   "execution_count": null,
   "metadata": {
    "id": "cSIIXahoEUro"
   },
   "outputs": [],
   "source": [
    "print(lastDigitOfSumFibonacciNumbers(100))"
   ]
  },
  {
   "cell_type": "markdown",
   "metadata": {
    "id": "r4fveK61tbvh"
   },
   "source": [
    "7. Last Digit of the Sum of Fibonacci Numbers Again"
   ]
  },
  {
   "cell_type": "code",
   "execution_count": null,
   "metadata": {
    "id": "hKP4JtZ4tiGd"
   },
   "outputs": [],
   "source": [
    "def lastDigitOfSumOfFibonacciNumbersAgain(n,m):\n",
    "  if m == 0:\n",
    "    return 0\n",
    "  if m == 1:\n",
    "    return 1\n",
    "  fn = 0\n",
    "  f0 = 0\n",
    "  f1 = 1\n",
    "  sum = 0\n",
    "  for i in range(2,m+1):\n",
    "    fn = (f0 + f1) % 10\n",
    "    if i >= n:\n",
    "      sum = (sum + fn) % 10\n",
    "    f0 = f1\n",
    "    f1 = fn\n",
    "  return sum"
   ]
  },
  {
   "cell_type": "code",
   "execution_count": null,
   "metadata": {
    "id": "eap1QyYHvt7s"
   },
   "outputs": [],
   "source": [
    "print(lastDigitOfSumOfFibonacciNumbersAgain(10,200))"
   ]
  },
  {
   "cell_type": "markdown",
   "metadata": {
    "id": "kzJDQLQ_wiXQ"
   },
   "source": [
    "8. Last Digit of the Sum of Squares of Fibonacci Numbers"
   ]
  },
  {
   "cell_type": "code",
   "execution_count": null,
   "metadata": {
    "id": "vwv5LHTewl2b"
   },
   "outputs": [],
   "source": [
    "def lastDigitOfSumOfSquaresOfFibonacciNumbers(m):\n",
    "  m = m % 60\n",
    "  if m == 0:\n",
    "    return 0\n",
    "  if m == 1:\n",
    "    return 1\n",
    "  fn = 0\n",
    "  f0 = 0\n",
    "  f1 = 1\n",
    "  sum = 1\n",
    "  for i in range(2,m+1):\n",
    "    fn = (f0 + f1) % 10\n",
    "    sum = (sum + (fn * fn)) % 10\n",
    "    f0 = f1\n",
    "    f1 = fn\n",
    "  return sum"
   ]
  },
  {
   "cell_type": "code",
   "execution_count": null,
   "metadata": {
    "id": "LZ2LjPYOxFW_"
   },
   "outputs": [],
   "source": [
    "print(lastDigitOfSumOfSquaresOfFibonacciNumbers(1234567890))"
   ]
  },
  {
   "cell_type": "markdown",
   "metadata": {
    "id": "liOb-rkcFfD8"
   },
   "source": [
    "### Week3 : Greedy Algorithms\n",
    "\n",
    "1. Money change"
   ]
  },
  {
   "cell_type": "code",
   "execution_count": null,
   "metadata": {
    "id": "cPWqdP1RH6II"
   },
   "outputs": [],
   "source": [
    "def moneyChange(val):\n",
    "  denominations = [10,5,1]\n",
    "  change = 0\n",
    "  for i in denominations:\n",
    "    temp = val // i\n",
    "    if temp > 0:\n",
    "      val = val - (temp * i)\n",
    "      change += temp\n",
    "  return change"
   ]
  },
  {
   "cell_type": "code",
   "execution_count": null,
   "metadata": {
    "id": "T55E7jtiKY3M"
   },
   "outputs": [],
   "source": [
    "moneyChange(int(input()))"
   ]
  },
  {
   "cell_type": "markdown",
   "metadata": {
    "id": "XTxuftqyQGZK"
   },
   "source": [
    "2. Maximum Value of the Loot\n"
   ]
  },
  {
   "cell_type": "code",
   "execution_count": null,
   "metadata": {
    "id": "ge7JQCF6OSd2"
   },
   "outputs": [],
   "source": [
    "def maxValOfLoot(cap,frac):\n",
    "  val = 0\n",
    "  frac.sort(reverse=True)\n",
    "  for f,w in frac:\n",
    "    if cap != 0:\n",
    "      if w >= cap:\n",
    "        val += cap * f\n",
    "        cap = 0\n",
    "      elif w < cap:\n",
    "        val += w * f\n",
    "        cap = cap - w\n",
    "  return val"
   ]
  },
  {
   "cell_type": "code",
   "execution_count": null,
   "metadata": {
    "id": "yYS8gDL8Q-L-"
   },
   "outputs": [],
   "source": [
    "n, cap = map(int, input().split())\n",
    "weights = []\n",
    "frac = []\n",
    "for _ in range(n):\n",
    "  v, w = map(int, input().split())\n",
    "  frac.append([v/w, w])\n",
    "print(maxValOfLoot(cap,frac))"
   ]
  },
  {
   "cell_type": "markdown",
   "metadata": {
    "id": "zDVDYhLUL58l"
   },
   "source": [
    "3. Car Fueling"
   ]
  },
  {
   "cell_type": "code",
   "execution_count": null,
   "metadata": {
    "id": "kkuCaS_n9KXV"
   },
   "outputs": [],
   "source": [
    "def carFueling(d,m,dList):\n",
    "  pos = 0\n",
    "  mtemp = m\n",
    "  refill = 0\n",
    "  dList.append(d)\n",
    "  for dn in dList:\n",
    "    if (dn - pos) > m:\n",
    "      return -1\n",
    "    if (dn - pos) > mtemp:\n",
    "      refill += 1\n",
    "      mtemp = m\n",
    "    mtemp -= (dn - pos)\n",
    "    pos = dn\n",
    "  return refill"
   ]
  },
  {
   "cell_type": "code",
   "execution_count": null,
   "metadata": {
    "id": "0HgGWxoTPlsl"
   },
   "outputs": [],
   "source": [
    "d = int(input())\n",
    "m = int(input())\n",
    "n = int(input())\n",
    "dList = [int(x) for x in input().split()]\n",
    "print(carFueling(d,m,dList))"
   ]
  },
  {
   "cell_type": "markdown",
   "metadata": {
    "id": "-8wEr0qQoX8q"
   },
   "source": [
    "4. Maximum Advertisement Revenue"
   ]
  },
  {
   "cell_type": "code",
   "execution_count": null,
   "metadata": {
    "id": "Ns81a-MmgCd7"
   },
   "outputs": [],
   "source": [
    "def maxAdRevenue(a,b):\n",
    "  a.sort()\n",
    "  b.sort()\n",
    "  return sum([a*b for a,b in zip(a,b)])"
   ]
  },
  {
   "cell_type": "code",
   "execution_count": null,
   "metadata": {
    "id": "6MhaKVyyp5b4"
   },
   "outputs": [],
   "source": [
    "print(maxAdRevenue([1,3,-5],[-2,4,1]))"
   ]
  },
  {
   "cell_type": "markdown",
   "metadata": {
    "id": "PjY5au8DcyN1"
   },
   "source": [
    "5. Collecting Signatures"
   ]
  },
  {
   "cell_type": "code",
   "execution_count": null,
   "metadata": {
    "executionInfo": {
     "elapsed": 361,
     "status": "ok",
     "timestamp": 1714571120477,
     "user": {
      "displayName": "Harsha Vardhan Koganti",
      "userId": "02216943246064620515"
     },
     "user_tz": -330
    },
    "id": "-FFDtBvNqC99"
   },
   "outputs": [],
   "source": [
    "def collectingSignatures(setN):\n",
    "  res = []\n",
    "  setN.sort(key = lambda x: x[1])\n",
    "  b0 = setN[0][1]\n",
    "  for a,b in setN:\n",
    "    if b0 < a:\n",
    "      res.append(b0)\n",
    "      b0 = b\n",
    "  res.append(b0)\n",
    "  return res"
   ]
  },
  {
   "cell_type": "code",
   "execution_count": null,
   "metadata": {
    "id": "a091HKFTc8kZ"
   },
   "outputs": [],
   "source": [
    "n = int(input())\n",
    "setN = []\n",
    "\n",
    "for _ in range(n):\n",
    "  setN.append([int(x) for x in input().split()])\n",
    "\n",
    "res = collectingSignatures(setN)\n",
    "print(res)"
   ]
  },
  {
   "cell_type": "markdown",
   "metadata": {
    "id": "YyJ5iirVafsB"
   },
   "source": [
    "6. Maximum Number of Prizes"
   ]
  },
  {
   "cell_type": "code",
   "execution_count": null,
   "metadata": {
    "executionInfo": {
     "elapsed": 364,
     "status": "ok",
     "timestamp": 1714574610190,
     "user": {
      "displayName": "Harsha Vardhan Koganti",
      "userId": "02216943246064620515"
     },
     "user_tz": -330
    },
    "id": "qPzCLlFPfQNI"
   },
   "outputs": [],
   "source": [
    "def maxNumberOfPrizes(num):\n",
    "  res = [1]\n",
    "  num -= 1\n",
    "  x = 1\n",
    "  while num > 0 and x <= num:\n",
    "    if x > res[-1]:\n",
    "      num -= x\n",
    "      print(\"num:\"+str(num)+\" x:\"+str(x))\n",
    "      res.append(x)\n",
    "    x += 1\n",
    "  res[-1] += num\n",
    "  return res"
   ]
  },
  {
   "cell_type": "code",
   "execution_count": null,
   "metadata": {
    "id": "lZlI3AZIknNl"
   },
   "outputs": [],
   "source": [
    "print(maxNumberOfPrizes(1))"
   ]
  },
  {
   "cell_type": "markdown",
   "metadata": {
    "id": "kBU7zk86pJFV"
   },
   "source": [
    "7. Maximum Salary"
   ]
  },
  {
   "cell_type": "code",
   "execution_count": null,
   "metadata": {
    "executionInfo": {
     "elapsed": 378,
     "status": "ok",
     "timestamp": 1714576687183,
     "user": {
      "displayName": "Harsha Vardhan Koganti",
      "userId": "02216943246064620515"
     },
     "user_tz": -330
    },
    "id": "C14ueSjqkskj"
   },
   "outputs": [],
   "source": [
    "def maxSalary(nums):\n",
    "  newNums = []\n",
    "  for n in nums:\n",
    "    while n > 0:\n",
    "      newNums.append(n % 10)\n",
    "      n = n // 10\n",
    "  newNums.sort(reverse=True)\n",
    "  return ''.join([str(num) for num in newNums])"
   ]
  },
  {
   "cell_type": "code",
   "execution_count": null,
   "metadata": {
    "colab": {
     "base_uri": "https://localhost:8080/"
    },
    "executionInfo": {
     "elapsed": 559,
     "status": "ok",
     "timestamp": 1714576995764,
     "user": {
      "displayName": "Harsha Vardhan Koganti",
      "userId": "02216943246064620515"
     },
     "user_tz": -330
    },
    "id": "RYa_0KSIo2vQ",
    "outputId": "fb95ffad-df37-4b88-f89a-5412bc296e11"
   },
   "outputs": [],
   "source": [
    "print(maxSalary([2, 23, 999, 789]))"
   ]
  },
  {
   "cell_type": "markdown",
   "metadata": {},
   "source": [
    "### Week 4 : Divide and Conquer\n",
    "1. Binary Search"
   ]
  },
  {
   "cell_type": "code",
   "execution_count": null,
   "metadata": {},
   "outputs": [],
   "source": [
    "def binarySearch(sortedNums, low, high, key):\n",
    "    if key > sortedNums[high] or key < sortedNums[low]:\n",
    "        return -1\n",
    "    mid = low + ((high - low) // 2)\n",
    "    if key == sortedNums[mid]:\n",
    "        return key\n",
    "    elif key < sortedNums[mid]:\n",
    "        return binarySearch(sortedNums, low, mid-1, key)\n",
    "    else:\n",
    "        return binarySearch(sortedNums, mid+1, high, key)"
   ]
  },
  {
   "cell_type": "code",
   "execution_count": null,
   "metadata": {},
   "outputs": [],
   "source": [
    "input1= [int(x) for x in input().split()]\n",
    "high = input1[0] - 1\n",
    "sortedNums = input1[1:]\n",
    "\n",
    "input2 = [int(x) for x in input().split()]\n",
    "searchNums = input2[1:]\n",
    "\n",
    "result = []\n",
    "for key in searchNums:\n",
    "    result.append(binarySearch(sortedNums, 0, high, key))\n",
    "print(result)"
   ]
  }
 ],
 "metadata": {
  "colab": {
   "authorship_tag": "ABX9TyPYc29qL9BraLAeEj/Jxa7X",
   "provenance": []
  },
  "kernelspec": {
   "display_name": "Python 3 (ipykernel)",
   "language": "python",
   "name": "python3"
  },
  "language_info": {
   "codemirror_mode": {
    "name": "ipython",
    "version": 3
   },
   "file_extension": ".py",
   "mimetype": "text/x-python",
   "name": "python",
   "nbconvert_exporter": "python",
   "pygments_lexer": "ipython3",
   "version": "3.10.11"
  }
 },
 "nbformat": 4,
 "nbformat_minor": 4
}
