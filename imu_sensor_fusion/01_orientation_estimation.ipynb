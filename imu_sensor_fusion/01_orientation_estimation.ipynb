{
 "cells": [
  {
   "cell_type": "markdown",
   "metadata": {},
   "source": [
    "# Orientation Estimation with Quaternions"
   ]
  },
  {
   "cell_type": "markdown",
   "metadata": {},
   "source": [
    "## Estimation using Angular Rate\n",
    "\n",
    "Let the instantaneous output of a 3-axis gyroscope, measured in degrees per second, be represented as $\\boldsymbol{\\omega}^{(body)} =\\boldsymbol{\\omega} = (0\\ ,\\ \\omega_{x}\\ ,\\ \\omega_{y}\\ ,\\ \\omega_{z})$.\n",
    "The orientation of the world frame relative to the body frame at time $t$ is expressed in quaternions as $\\mathbf{q}_{t}^{(world)} = \\mathbf{q}_{t} = (q_{0}\\ ,\\ q_{1}\\ ,\\ q_{2}\\ ,\\ q_{3})$ and the initial orientation is defined as $\\mathbf{q}_{0} = (1\\ ,\\ 0\\ ,\\ 0\\ ,\\ 0)$.\n",
    "\n",
    "The orientation estimate at time $t + \\Delta t $ is $ \\mathbf{q}_{t + \\Delta t}$ .\n",
    "\n",
    "From Taylor series we have, $f(x + h) = f(x) + h f'(x) + O(h^{2})$. Here, $O(h^{2})$ represents the order of magnitude of the error term.\n",
    "\n",
    "$$\\mathbf{q}_{t + \\Delta t} = \\mathbf{q}_{t} + \\Delta t \\ \\dot{\\mathbf{q}}_{t} \\tag{1}$$\n",
    "\n",
    "From Quartenion differentiation,\n",
    "\n",
    "$$\\mathbf{q}_{t + \\Delta t} = \\mathbf{q}_{t} + \\Delta t \\ \\frac{1}{2} \\ \\boldsymbol{\\omega} \\ \\mathbf{q}_{t} $$\n",
    "$$\\mathbf{q}_{t + \\Delta t} = \\mathbf{q}_{t} + \\frac{1}{2} \\ \\boldsymbol{\\omega} \\ \\mathbf{q}_{t} \\ \\Delta t$$\n",
    "\n",
    "After Quartenion multiplication of $\\boldsymbol{\\omega}$ and $\\mathbf{q}_{t}$ ,\n",
    "\n",
    "$$\\mathbf{q}_{t + \\Delta t} =\n",
    "\\begin{bmatrix}\n",
    "    q_{0} \\\\\n",
    "    q_{1} \\\\\n",
    "    q_{2} \\\\\n",
    "    q_{3}\n",
    "\\end{bmatrix}\n",
    "+ \\frac{1}{2} \n",
    "\\begin{bmatrix}\n",
    "    - q_{1} \\ \\omega_{x} - q_{2} \\ \\omega_{y} - q_{3} \\ \\omega_{z} \\\\\n",
    "    q_{0} \\ \\omega_{x} + q_{2} \\ \\omega_{z} - q_{3} \\ \\omega_{y} \\\\\n",
    "    q_{0} \\ \\omega_{y} - q_{1} \\ \\omega_{z} + q_{3} \\ \\omega_{x} \\\\\n",
    "    q_{0} \\ \\omega_{z} + q_{1} \\ \\omega_{y} - q_{2} \\ \\omega_{x}\n",
    "\\end{bmatrix}\n",
    "\\Delta t \\tag{2}$$\n",
    "\n",
    "Normalize the result to get unit vector.\n",
    "\n",
    "$$\\mathbf{q}_{t + \\Delta t} = \\frac{\\mathbf{q}_{t + \\Delta t}}{\\| \\mathbf{q}_{t + \\Delta t} \\|} \\tag{3}$$\n",
    "\n",
    "- The implementation can be observed in [mpu9250 arduino library](https://github.com/hideakitai/MPU9250/blob/3741120ae5816aa0cb7d4e15870f99c875c72bc1/MPU9250/QuaternionFilter.h#L50)."
   ]
  },
  {
   "cell_type": "markdown",
   "metadata": {},
   "source": [
    "## Estimation using Madgwick Filter\n",
    "\n",
    "The Madgwick filter functions as a complementary filter that combines high-pass filtered gyroscope measurements with low-pass filtered measurements from accelerometer and magnetometer.\n",
    "\n",
    "### Orientation as solution of Gradient Descent\n",
    "\n",
    "- Given Objective or Cost function,\n",
    "\n",
    "    $$\\begin{split}\\begin{array}{rcl}\n",
    "    f(\\mathbf{q}, \\mathbf{d}^{(world)}, \\mathbf{s}^{(body)}) &=&  \\mathbf{q}^{*} \\ \\mathbf{d}^{(world)} \\ \\mathbf{q}-\\mathbf{s}^{(body)} \\\\\n",
    "    &=&\\begin{bmatrix}\n",
    "    2d_x(\\frac{1}{2}-q_y^2-q_z^2) + 2d_y(q_wq_z+q_xq_y) + 2d_z(q_xq_z-q_wq_y) - s_x \\\\\n",
    "    2d_x(q_xq_y-q_wq_z) + 2d_y(\\frac{1}{2}-q_x^2-q_z^2) + 2d_z(q_wq_x+q_yq_z) - s_y \\\\\n",
    "    2d_x(q_wq_y+q_xq_z) + 2d_y(q_yq_z-q_wq_x) + 2d_z(\\frac{1}{2}-q_x^2-q_y^2) - s_z\n",
    "    \\end{bmatrix}\n",
    "    \\end{array}\\end{split}$$\n",
    "\n",
    "    where,\n",
    "\n",
    "    $\\mathbf{q}$ is the orientation of the sensor, defined as $\\mathbf{q}=(q_{w}\\ ,\\ q_{x}\\ ,\\ q_{y}\\ ,\\ q_{z})$ and $\\mathbf{q}^{*}$ is conjugate of $\\mathbf{q}$.\n",
    "\n",
    "    $\\mathbf{d}^{(world)}$ is the predefined reference in the world frame, defined as $\\mathbf{d}^{(world)}=(0\\ ,\\ d_{x}\\ ,\\ d_{y}\\ ,\\ d_{z})$.\n",
    "\n",
    "    $\\mathbf{s}^{(body)}$ is the measured direction in the sensor frame, defined as $\\mathbf{s}^{(body)}=(0\\ ,\\ s_{x}\\ ,\\ s_{y}\\ ,\\ s_{z})$.\n",
    "\n",
    "- The solution of $\\mathbf{q}$ can be obtained by minimizing $f(\\mathbf{q}, \\mathbf{d}^{(world)}, \\mathbf{s}^{(body)})$."
   ]
  },
  {
   "cell_type": "markdown",
   "metadata": {},
   "source": [
    "## Estimation using Mahony Filter"
   ]
  },
  {
   "cell_type": "markdown",
   "metadata": {},
   "source": [
    "## Additional Resources\n",
    "\n",
    "- [AHRS - Attitude from angular rate](https://ahrs.readthedocs.io/en/latest/filters/angular.html#)\n",
    "- [Stanford EE267 - Course Notes on IMU](assets/ee267_notes_imu.pdf)\n",
    "- [VIRTUAL REALITY By Steven M. LaValle - Chapter 9.1 and 9.2](assets/vrch9.pdf)"
   ]
  }
 ],
 "metadata": {
  "language_info": {
   "name": "python"
  }
 },
 "nbformat": 4,
 "nbformat_minor": 2
}
